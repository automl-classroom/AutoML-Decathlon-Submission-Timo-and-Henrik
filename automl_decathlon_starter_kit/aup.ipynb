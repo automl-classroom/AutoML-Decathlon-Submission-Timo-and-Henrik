{
 "cells": [
  {
   "cell_type": "code",
   "execution_count": null,
   "metadata": {},
   "outputs": [],
   "source": [
    "import matplotlib.pyplot as plt\n",
    "import pandas as pd\n",
    "import numpy as np\n",
    "import optperfprofpy"
   ]
  },
  {
   "cell_type": "code",
   "execution_count": 640,
   "metadata": {},
   "outputs": [],
   "source": [
    "def compute_step_area(y, x, prestep=True):\n",
    "    area = 0.0\n",
    "    for j in range(1, len(x)):\n",
    "        width = x[j] - x[j-1]\n",
    "        height = y[j] if prestep else y[j-1]\n",
    "        area += width * height\n",
    "    return area\n",
    "\n",
    "def draw_shaded_perfprof(taus, solver_vals, solvers):\n",
    "    \"\"\"Shaded step plotter for performance profiles with AUPP\n",
    "\n",
    "    Parameters\n",
    "    ----------\n",
    "    taus : numpy.ndarray\n",
    "        x values of plot.\n",
    "    solver_vals : numpy.ndarray\n",
    "        y values of plot.\n",
    "    solvers : list\n",
    "        Labels of curves.\n",
    "    \"\"\"\n",
    "    \n",
    "    fig = plt.figure()\n",
    "    ax = fig.add_subplot(111)\n",
    "    \n",
    "    # Add lines individually to support labels\n",
    "    aupps = []\n",
    "    solver_order = []\n",
    "    for i, solver in enumerate(solvers):\n",
    "        aupp = compute_step_area(solver_vals[i, :], taus)\n",
    "        aupps.append(aupp)\n",
    "        solver_order.append(solver)\n",
    "        \n",
    "        ax.fill_between(\n",
    "            x=taus, \n",
    "            y1=solver_vals[i, :],\n",
    "            step=\"pre\",\n",
    "            alpha=0.1)\n",
    "\n",
    "        ax.step(taus, solver_vals[i, :], \n",
    "            label=f\"{solver}: {aupp:.2f}\", linewidth=5, alpha=0.5)\n",
    "        \n",
    "    plt.legend(loc=4)\n",
    "    plt.xlim(taus.min(), taus.max())\n",
    "    ax.set_xlabel(r\"$\\tau$\")\n",
    "    ax.set_ylabel(r\"$\\rho_s(\\tau)$\")\n",
    "    \n",
    "    plt.plot()\n",
    "\n",
    "    return aupps, solver_order"
   ]
  },
  {
   "cell_type": "code",
   "execution_count": 641,
   "metadata": {},
   "outputs": [
    {
     "name": "stdout",
     "output_type": "stream",
     "text": [
      "Number of problems per solver:  3\n"
     ]
    },
    {
     "data": {
      "text/html": [
       "<div>\n",
       "<style scoped>\n",
       "    .dataframe tbody tr th:only-of-type {\n",
       "        vertical-align: middle;\n",
       "    }\n",
       "\n",
       "    .dataframe tbody tr th {\n",
       "        vertical-align: top;\n",
       "    }\n",
       "\n",
       "    .dataframe thead th {\n",
       "        text-align: right;\n",
       "    }\n",
       "</style>\n",
       "<table border=\"1\" class=\"dataframe\">\n",
       "  <thead>\n",
       "    <tr style=\"text-align: right;\">\n",
       "      <th></th>\n",
       "      <th>problem</th>\n",
       "      <th>method</th>\n",
       "      <th>obj</th>\n",
       "    </tr>\n",
       "  </thead>\n",
       "  <tbody>\n",
       "    <tr>\n",
       "      <th>0</th>\n",
       "      <td>1</td>\n",
       "      <td>A</td>\n",
       "      <td>1.0</td>\n",
       "    </tr>\n",
       "    <tr>\n",
       "      <th>1</th>\n",
       "      <td>1</td>\n",
       "      <td>B</td>\n",
       "      <td>10.0</td>\n",
       "    </tr>\n",
       "    <tr>\n",
       "      <th>2</th>\n",
       "      <td>2</td>\n",
       "      <td>A</td>\n",
       "      <td>5.0</td>\n",
       "    </tr>\n",
       "    <tr>\n",
       "      <th>3</th>\n",
       "      <td>2</td>\n",
       "      <td>B</td>\n",
       "      <td>1.0</td>\n",
       "    </tr>\n",
       "    <tr>\n",
       "      <th>4</th>\n",
       "      <td>3</td>\n",
       "      <td>A</td>\n",
       "      <td>7.5</td>\n",
       "    </tr>\n",
       "    <tr>\n",
       "      <th>5</th>\n",
       "      <td>3</td>\n",
       "      <td>B</td>\n",
       "      <td>1.0</td>\n",
       "    </tr>\n",
       "  </tbody>\n",
       "</table>\n",
       "</div>"
      ],
      "text/plain": [
       "  problem method   obj\n",
       "0       1      A   1.0\n",
       "1       1      B  10.0\n",
       "2       2      A   5.0\n",
       "3       2      B   1.0\n",
       "4       3      A   7.5\n",
       "5       3      B   1.0"
      ]
     },
     "execution_count": 641,
     "metadata": {},
     "output_type": "execute_result"
    },
    {
     "data": {
      "image/png": "[encoded data removed]",
      "text/plain": [
       "<Figure size 432x288 with 1 Axes>"
      ]
     },
     "metadata": {
      "needs_background": "light"
     },
     "output_type": "display_data"
    }
   ],
   "source": [
    "M = 1\n",
    "\n",
    "problems = pd.Series([1, 1, 2, 2, 3, 3], dtype=int, name='problem')\n",
    "methods = pd.Series(['A', 'B', 'A', 'B', 'A', 'B'], dtype=str, name='method')\n",
    "objective_vals = pd.Series([2, 20*M, 25, 5*M, 30, 4*M], dtype=float, name='obj')\n",
    "\n",
    "example_df = pd.DataFrame([problems, methods, objective_vals]).T\n",
    "taus, solver_vals, solvers, transformed_data = optperfprofpy.calc_perprof(\n",
    "    example_df, ['problem'], ['obj'], ['method'])\n",
    "\n",
    "taus = np.array(taus, dtype=float)\n",
    "solver_vals = np.array(solver_vals, dtype=float)\n",
    "\n",
    "draw_shaded_perfprof(taus, solver_vals, solvers)\n",
    "transformed_data\n"
   ]
  },
  {
   "cell_type": "markdown",
   "metadata": {},
   "source": [
    "## AUPP with our results against the XGBoost Baseline"
   ]
  },
  {
   "cell_type": "code",
   "execution_count": null,
   "metadata": {},
   "outputs": [],
   "source": [
    "n_probs = 10\n",
    "n_methods = 2\n",
    "\n",
    "problems_array = np.repeat(np.arange(n_probs), 2)\n",
    "methods = [\"Our results\", \"XGBoost\"]\n",
    "method_labels = methods * n_probs\n",
    "r0 = np.array([0.11116418987512589, 0.6823, 0.09863429438543247, 0.500124, 0.8910001685812682, 0.3509977818665262, 1.315365, 0.003331658896058798, 0.05247500000000005, 0.973802])\n",
    "r1 = np.array([0.284792,            0.9660, 0.210926,            0.468936, 0.539995,           0.499239,           0.260695, 0.005529,             0.068560,            0.963624])\n",
    "\n",
    "simulated_obj_vals = np.vstack([r0, r1]).T.reshape(-1)\n",
    "\n",
    "problems = pd.Series(problems_array, dtype=int, name='problem')\n",
    "methods = pd.Series(method_labels, dtype=str, name='method')\n",
    "objective_vals = pd.Series(simulated_obj_vals, dtype=float, name='obj')\n",
    "\n",
    "df = pd.DataFrame([problems, methods, objective_vals]).T\n",
    "taus, solver_vals, solvers, transformed_data = optperfprofpy.calc_perprof(\n",
    "    df, ['problem'], ['obj'], ['method'])\n",
    "\n",
    "taus = np.array(taus, dtype=float)\n",
    "solver_vals = np.array(solver_vals, dtype=float)\n",
    "\n",
    "draw_shaded_perfprof(taus, solver_vals, solvers)"
   ]
  }
 ],
 "metadata": {
  "kernelspec": {
   "display_name": "Python 3.10.6 64-bit",
   "language": "python",
   "name": "python3"
  },
  "language_info": {
   "codemirror_mode": {
    "name": "ipython",
    "version": 3
   },
   "file_extension": ".py",
   "mimetype": "text/x-python",
   "name": "python",
   "nbconvert_exporter": "python",
   "pygments_lexer": "ipython3",
   "version": "3.10.6"
  },
  "orig_nbformat": 4,
  "vscode": {
   "interpreter": {
    "hash": "c31ee28a2e8a8c14288e32f43cdc31d04eb5922835efbdee25a698b666fb5ffc"
   }
  }
 },
 "nbformat": 4,
 "nbformat_minor": 2
}
